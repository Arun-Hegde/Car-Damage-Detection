{
 "cells": [
  {
   "cell_type": "markdown",
   "id": "5a2c9521-d8f1-4eca-985e-4e0fd261e329",
   "metadata": {},
   "source": [
    "### import Neccessary Libraries"
   ]
  },
  {
   "cell_type": "code",
   "execution_count": 12,
   "id": "efa0db74-bb04-4a4e-b8e1-bcfb89ca0160",
   "metadata": {},
   "outputs": [],
   "source": [
    "import os \n",
    "from torchvision import datasets, transforms\n",
    "from torch.utils.data import DataLoader\n",
    "import torch\n",
    "import torch.nn as nn\n",
    "import torch.optim as optim\n",
    "import torch.nn.functional as F\n",
    "import time \n",
    "import torchvision.models as models\n",
    "import matplotlib.pyplot as plt\n",
    "import optuna"
   ]
  },
  {
   "cell_type": "code",
   "execution_count": 13,
   "id": "1f84d0bb-837c-4295-a80a-67053e64df37",
   "metadata": {},
   "outputs": [
    {
     "data": {
      "text/plain": [
       "device(type='cuda')"
      ]
     },
     "execution_count": 13,
     "metadata": {},
     "output_type": "execute_result"
    }
   ],
   "source": [
    "device = torch.device(\"cuda\" if torch.cuda.is_available() else \"cpu\")\n",
    "device"
   ]
  },
  {
   "cell_type": "markdown",
   "id": "627f4a14-3427-4a88-a9bd-8b98f191d0e9",
   "metadata": {},
   "source": [
    "### Load Data"
   ]
  },
  {
   "cell_type": "code",
   "execution_count": 14,
   "id": "c0f7b7e5-73ff-461f-8edf-b2ed5b022111",
   "metadata": {},
   "outputs": [],
   "source": [
    "image_transforms = transforms.Compose([\n",
    "    transforms.RandomHorizontalFlip(),\n",
    "    transforms.RandomRotation(10),\n",
    "    transforms.ColorJitter(brightness=0.2,contrast=0.2),\n",
    "    transforms.Resize((224,224)),\n",
    "    transforms.ToTensor(),\n",
    "    transforms.Normalize(mean=[0.485,0.456,0.406],std=[0.229,0.224,0.225])\n",
    "])"
   ]
  },
  {
   "cell_type": "code",
   "execution_count": 15,
   "id": "f0015450-c5b3-45fb-93fa-29976282b6ce",
   "metadata": {},
   "outputs": [
    {
     "data": {
      "text/plain": [
       "2300"
      ]
     },
     "execution_count": 15,
     "metadata": {},
     "output_type": "execute_result"
    }
   ],
   "source": [
    "dataset_path =\"./dataset\"\n",
    "\n",
    "dataset = datasets.ImageFolder(root=dataset_path,transform=image_transforms)\n",
    "len(dataset)"
   ]
  },
  {
   "cell_type": "code",
   "execution_count": 16,
   "id": "0088a4b4-6650-4d45-a9d1-b11457212589",
   "metadata": {},
   "outputs": [
    {
     "data": {
      "text/plain": [
       "['F_Breakage', 'F_Crushed', 'F_Normal', 'R_Breakage', 'R_Crushed', 'R_Normal']"
      ]
     },
     "execution_count": 16,
     "metadata": {},
     "output_type": "execute_result"
    }
   ],
   "source": [
    "dataset.classes"
   ]
  },
  {
   "cell_type": "code",
   "execution_count": 17,
   "id": "b9a156da-4285-4ac1-9d59-8a6096ffa576",
   "metadata": {},
   "outputs": [
    {
     "data": {
      "text/plain": [
       "6"
      ]
     },
     "execution_count": 17,
     "metadata": {},
     "output_type": "execute_result"
    }
   ],
   "source": [
    "num_classes = len(dataset.classes)\n",
    "num_classes"
   ]
  },
  {
   "cell_type": "markdown",
   "id": "ee6065a2-a363-49c3-8b67-004d8a43aa66",
   "metadata": {},
   "source": [
    "### Training Dataset"
   ]
  },
  {
   "cell_type": "code",
   "execution_count": 18,
   "id": "942ec020-51b4-4285-8d95-a904db834014",
   "metadata": {},
   "outputs": [
    {
     "data": {
      "text/plain": [
       "(1725, 575)"
      ]
     },
     "execution_count": 18,
     "metadata": {},
     "output_type": "execute_result"
    }
   ],
   "source": [
    "train_size = int(0.75*len(dataset))\n",
    "val_size = len(dataset) - train_size\n",
    "\n",
    "train_size,val_size"
   ]
  },
  {
   "cell_type": "code",
   "execution_count": 19,
   "id": "378fa9fc-9c40-4261-842a-0928d55d35ff",
   "metadata": {},
   "outputs": [],
   "source": [
    "from torch.utils.data import random_split\n",
    "\n",
    "train_dataset,val_dataset = random_split(dataset,[train_size,val_size])"
   ]
  },
  {
   "cell_type": "code",
   "execution_count": 20,
   "id": "fe8776c4-6f65-40a3-a3fb-30a02ab6b558",
   "metadata": {},
   "outputs": [],
   "source": [
    "train_loader = DataLoader(train_dataset,batch_size=32,shuffle=True)\n",
    "val_loader = DataLoader(val_dataset,batch_size=32,shuffle=True)"
   ]
  },
  {
   "cell_type": "markdown",
   "id": "b6023d6a-7ec3-4218-88ea-188f88da53e9",
   "metadata": {},
   "source": [
    "### Model Traininng And Hyperparameter Tunning"
   ]
  },
  {
   "cell_type": "code",
   "execution_count": 21,
   "id": "0a375612-538d-41d9-b29f-ad2244f59c47",
   "metadata": {},
   "outputs": [],
   "source": [
    "class CarClassifierResNet(nn.Module):\n",
    "    def __init__(self,num_classes,dropout_rate=0.5):\n",
    "        super().__init__()\n",
    "        self.model = models.resnet50(weights='DEFAULT')\n",
    "\n",
    "        for param in self.model.parameters():\n",
    "            param.requires_grad = False\n",
    "        \n",
    "        for param in self.model.layer4.parameters():\n",
    "            param.requires_grad = True\n",
    "\n",
    "        self.model.fc = nn.Sequential(\n",
    "            nn.Dropout(dropout_rate),\n",
    "            nn.Linear(self.model.fc.in_features,num_classes)\n",
    "        )\n",
    "\n",
    "    def forward(self,x):\n",
    "        x = self.model(x)\n",
    "        return x"
   ]
  },
  {
   "cell_type": "code",
   "execution_count": 23,
   "id": "60f27c95-c008-458e-ae86-e7cc577452f6",
   "metadata": {},
   "outputs": [],
   "source": [
    "def objective(trial):\n",
    "    lr = trial.suggest_float('lr',1e-5,1e-2,log=True)\n",
    "    dropout_rate = trial.suggest_float('dropout_rate',0.2,0.7)\n",
    "\n",
    "    model = CarClassifierResNet(num_classes=num_classes,dropout_rate=dropout_rate).to(device)\n",
    "\n",
    "    criterion = nn.CrossEntropyLoss()\n",
    "    optimizer = optim.Adam(filter(lambda p : p.requires_grad,model.parameters()),lr=lr)\n",
    "\n",
    "    epochs = 3\n",
    "    start = time.time()\n",
    "    for epoch in range(epochs):\n",
    "        model.train()\n",
    "        running_loss = 0.0\n",
    "        for batch_num,(images , labels) in enumerate(train_loader):\n",
    "            images,labels = images.to(device),labels.to(device)\n",
    "            # Zero the parameter gradients\n",
    "            optimizer.zero_grad()\n",
    "            \n",
    "            # Forward pass\n",
    "            output = model(images)\n",
    "            loss = criterion(output,labels)\n",
    "            \n",
    "            # Backward pass & optimization\n",
    "            loss.backward()\n",
    "            optimizer.step()\n",
    "\n",
    "            running_loss += loss.item() * images.size(0)\n",
    "        epoch_loss = running_loss / len(train_loader.dataset)\n",
    "        \n",
    "        # Validation\n",
    "        model.eval()\n",
    "        total = 0\n",
    "        correct = 0\n",
    "\n",
    "        with torch.no_grad():\n",
    "            for images , labels in val_loader:\n",
    "                images,labels = images.to(device),labels.to(device)\n",
    "                output = model(images)\n",
    "                _,predicted = torch.max(output.data,1)\n",
    "                total += labels.size(0)\n",
    "                correct += (predicted == labels).sum().item()\n",
    "\n",
    "            accuracy = 100 * correct / total\n",
    "\n",
    "            trial.report(accuracy,epoch)\n",
    "\n",
    "            if trial.should_prune():\n",
    "                raise optuna.exceptions.TrialPruned()\n",
    "\n",
    "    end = time.time()\n",
    "    print(f\"Execution time : {end - start} Seconds\")\n",
    "    \n",
    "    return accuracy"
   ]
  },
  {
   "cell_type": "code",
   "execution_count": 24,
   "id": "71f82681-57b7-4628-81e5-ec9d41845feb",
   "metadata": {},
   "outputs": [
    {
     "name": "stderr",
     "output_type": "stream",
     "text": [
      "[I 2025-10-15 20:44:30,615] A new study created in memory with name: no-name-4f1afa74-9b72-4c59-bf69-ba04d6829d81\n",
      "[I 2025-10-15 20:50:32,022] Trial 0 finished with value: 75.82608695652173 and parameters: {'lr': 0.00029120879734147957, 'dropout_rate': 0.5433250025826173}. Best is trial 0 with value: 75.82608695652173.\n"
     ]
    },
    {
     "name": "stdout",
     "output_type": "stream",
     "text": [
      "Execution time : 360.32098507881165 Seconds\n"
     ]
    },
    {
     "name": "stderr",
     "output_type": "stream",
     "text": [
      "[I 2025-10-15 20:56:20,999] Trial 1 finished with value: 56.69565217391305 and parameters: {'lr': 1.6848046243616204e-05, 'dropout_rate': 0.344279045287073}. Best is trial 0 with value: 75.82608695652173.\n"
     ]
    },
    {
     "name": "stdout",
     "output_type": "stream",
     "text": [
      "Execution time : 348.2177426815033 Seconds\n"
     ]
    },
    {
     "name": "stderr",
     "output_type": "stream",
     "text": [
      "[I 2025-10-15 21:02:18,185] Trial 2 finished with value: 75.47826086956522 and parameters: {'lr': 0.007262433986549524, 'dropout_rate': 0.5312178647770802}. Best is trial 0 with value: 75.82608695652173.\n"
     ]
    },
    {
     "name": "stdout",
     "output_type": "stream",
     "text": [
      "Execution time : 356.52008295059204 Seconds\n"
     ]
    },
    {
     "name": "stderr",
     "output_type": "stream",
     "text": [
      "[I 2025-10-15 21:08:31,034] Trial 3 finished with value: 73.73913043478261 and parameters: {'lr': 0.0005901581874368075, 'dropout_rate': 0.22699322300179198}. Best is trial 0 with value: 75.82608695652173.\n"
     ]
    },
    {
     "name": "stdout",
     "output_type": "stream",
     "text": [
      "Execution time : 372.16941475868225 Seconds\n"
     ]
    },
    {
     "name": "stderr",
     "output_type": "stream",
     "text": [
      "[I 2025-10-15 21:14:35,763] Trial 4 finished with value: 66.6086956521739 and parameters: {'lr': 2.3061218531201488e-05, 'dropout_rate': 0.2604996522712867}. Best is trial 0 with value: 75.82608695652173.\n"
     ]
    },
    {
     "name": "stdout",
     "output_type": "stream",
     "text": [
      "Execution time : 364.1387276649475 Seconds\n"
     ]
    },
    {
     "name": "stderr",
     "output_type": "stream",
     "text": [
      "[I 2025-10-15 21:15:50,333] Trial 5 pruned. \n",
      "[I 2025-10-15 21:19:15,443] Trial 6 finished with value: 79.1304347826087 and parameters: {'lr': 0.0010891945890169682, 'dropout_rate': 0.688162983060687}. Best is trial 6 with value: 79.1304347826087.\n"
     ]
    },
    {
     "name": "stdout",
     "output_type": "stream",
     "text": [
      "Execution time : 204.64887189865112 Seconds\n"
     ]
    },
    {
     "name": "stderr",
     "output_type": "stream",
     "text": [
      "[I 2025-10-15 21:20:30,912] Trial 7 pruned. \n",
      "[I 2025-10-15 21:23:16,081] Trial 8 pruned. \n",
      "[I 2025-10-15 21:24:46,511] Trial 9 pruned. \n",
      "[I 2025-10-15 21:28:52,910] Trial 10 finished with value: 80.34782608695652 and parameters: {'lr': 0.0008652442999786002, 'dropout_rate': 0.6889213517602946}. Best is trial 10 with value: 80.34782608695652.\n"
     ]
    },
    {
     "name": "stdout",
     "output_type": "stream",
     "text": [
      "Execution time : 245.80264139175415 Seconds\n"
     ]
    },
    {
     "name": "stderr",
     "output_type": "stream",
     "text": [
      "[I 2025-10-15 21:30:20,889] Trial 11 pruned. \n",
      "[I 2025-10-15 21:33:20,560] Trial 12 pruned. \n",
      "[I 2025-10-15 21:34:47,225] Trial 13 pruned. \n",
      "[I 2025-10-15 21:37:46,233] Trial 14 pruned. \n",
      "[I 2025-10-15 21:39:15,441] Trial 15 pruned. \n",
      "[I 2025-10-15 21:42:09,884] Trial 16 pruned. \n",
      "[I 2025-10-15 21:43:38,141] Trial 17 pruned. \n",
      "[I 2025-10-15 21:45:05,219] Trial 18 pruned. \n",
      "[I 2025-10-15 21:46:32,116] Trial 19 pruned. \n"
     ]
    }
   ],
   "source": [
    "study = optuna.create_study(direction='maximize')\n",
    "study.optimize(objective,n_trials=20)"
   ]
  },
  {
   "cell_type": "markdown",
   "id": "7993da01-bdbd-4468-a4e0-ad55dbe36401",
   "metadata": {},
   "source": [
    "### Print Best Parameter"
   ]
  },
  {
   "cell_type": "code",
   "execution_count": 25,
   "id": "ea53fe3b-4140-48ff-b822-5aa1ed08427d",
   "metadata": {},
   "outputs": [
    {
     "data": {
      "text/plain": [
       "{'lr': 0.0008652442999786002, 'dropout_rate': 0.6889213517602946}"
      ]
     },
     "execution_count": 25,
     "metadata": {},
     "output_type": "execute_result"
    }
   ],
   "source": [
    "study.best_params"
   ]
  },
  {
   "cell_type": "code",
   "execution_count": null,
   "id": "4b8585d5-f943-4c49-89f8-cc0aab8f384e",
   "metadata": {},
   "outputs": [],
   "source": []
  }
 ],
 "metadata": {
  "kernelspec": {
   "display_name": "Python 3 (ipykernel)",
   "language": "python",
   "name": "python3"
  },
  "language_info": {
   "codemirror_mode": {
    "name": "ipython",
    "version": 3
   },
   "file_extension": ".py",
   "mimetype": "text/x-python",
   "name": "python",
   "nbconvert_exporter": "python",
   "pygments_lexer": "ipython3",
   "version": "3.10.11"
  }
 },
 "nbformat": 4,
 "nbformat_minor": 5
}
